{
 "cells": [
  {
   "cell_type": "code",
   "execution_count": 94,
   "metadata": {},
   "outputs": [
    {
     "data": {
      "text/plain": [
       "Timestamp                                                                                                                                                                                    object\n",
       "What is your current country of residence?                                                                                                                                                   object\n",
       "What is your age?                                                                                                                                                                             int64\n",
       "What is your gender?                                                                                                                                                                         object\n",
       "What is the highest level of education you have completed?                                                                                                                                   object\n",
       "On a scale of 1 to 5, how comfortable do you feel using a computer?                                                                                                                           int64\n",
       "At what age did you first start using a computer? If you do not remember exactly, you may fill in an approximation.                                                                          object\n",
       "If you have completed a middle school education, did you follow an IT-related class and/or course (not necessarily a programming one) during this time?                                      object\n",
       "In your study career, have you followed or are you following a *course* directly related to computer programming?                                                                            object\n",
       "What was your primary motivation for following this programming-related course?                                                                                                              object\n",
       "On a scale of 1 to 5, how intimidating do/did you find your programming-related course?                                                                                                     float64\n",
       "What was/is, in your opinion, the most challenging aspect of this course, either in terms of the curriculum, the study environment or others?                                                object\n",
       "On a scale of 1 to 5, what is your opinion of the contents of the course you are following/have followed?                                                                                   float64\n",
       "Please elaborate your answer.                                                                                                                                                                object\n",
       "What made you interested in following a programming-related course?                                                                                                                          object\n",
       "On a scale of 1 to 5 - in terms of the difficulty of the curriculum, study environment and others, how intimidated are you by the prospect of following a programming-related course?       float64\n",
       "Please elaborate your answer..1                                                                                                                                                              object\n",
       "Please elaborate why you did not decide to follow a programming-related course.                                                                                                              object\n",
       "If you answered you decided not to based on the experiences of a friend, family member or colleague, could you describe their experience (if you are willing to share that anonymously)?    float64\n",
       "On a scale of 1 to 5, what is the gender stereotype in your culture when it comes to computer engineering?                                                                                    int64\n",
       "On a scale of 1 to 5 - to your knowledge, how prevalent is sexism which is biased against women in computer engineering?                                                                      int64\n",
       "Do you know any female friends or family members who are *currently* studying programming or working in a programming role?                                                                  object\n",
       "Do you know any female friends or family members who *have* studied programming or worked in a programming role in the past, but are not currently doing so?                                 object\n",
       " If you answered yes to any of the previous two questions, please write down any experiences surrounding their study/work that you can remember (and are willing to share anonymously).      object\n",
       "Are you *currently* employed in a programming-oriented role in the IT field?                                                                                                                 object\n",
       "On a scale of 1 to 5, how satisfied are you with your current job?                                                                                                                          float64\n",
       "If you answered with 1 or 2, what is the reason behind your dissatisfaction with your current job?                                                                                           object\n",
       "On a scale of 1 to 5, how hard was it for you to land your current job?                                                                                                                     float64\n",
       "If you answered with 4 or 5, what was the reason behind your difficulty in landing your current job?                                                                                         object\n",
       "age_first                                                                                                                                                                                    object\n",
       "dtype: object"
      ]
     },
     "execution_count": 94,
     "metadata": {},
     "output_type": "execute_result"
    }
   ],
   "source": [
    "import pandas as pd\n",
    "\n",
    "df = pd.read_csv('Scientific Method 1 questionnaire (Responses) - Form Responses 1.csv')\n",
    "df['age_first'] = df['At what age did you first start using a computer? If you do not remember exactly, you may fill in an approximation.'].copy()\n",
    "df.loc[df['age_first'] == '0 to 5 years old', 'age_first'] = 2.5\n",
    "df.loc[df['age_first'] == '6 to 13 years old', 'age_first'] = 9.5\n",
    "df.loc[df['age_first'] == '14 to 21 years old', 'age_first'] = 17.5\n",
    "df.loc[df['age_first'] == '21+ years old', 'age_first'] = 25\n",
    "df.dtypes"
   ]
  },
  {
   "cell_type": "markdown",
   "metadata": {},
   "source": [
    "# On a scale of 1 to 5 - to your knowledge, how prevalent is sexism which is biased against women in computer engineering?"
   ]
  },
  {
   "cell_type": "code",
   "execution_count": 81,
   "metadata": {},
   "outputs": [
    {
     "data": {
      "text/plain": [
       "(43, 50)"
      ]
     },
     "execution_count": 81,
     "metadata": {},
     "output_type": "execute_result"
    }
   ],
   "source": [
    "len(df[df['What is your gender?'] == 'Male']['On a scale of 1 to 5 - to your knowledge, how prevalent is sexism which is biased against women in computer engineering?']), len(df[df['What is your gender?'] == 'Female']['On a scale of 1 to 5 - to your knowledge, how prevalent is sexism which is biased against women in computer engineering?'])"
   ]
  },
  {
   "cell_type": "code",
   "execution_count": 82,
   "metadata": {},
   "outputs": [
    {
     "name": "stdout",
     "output_type": "stream",
     "text": [
      "Male mean sexism: 2.67\n",
      "Female mean sexism: 2.92\n",
      "Male std sexism: 1.23\n",
      "Female std sexism: 1.10\n",
      "Male sem sexism: 0.19\n",
      "Female sem sexism: 0.16\n"
     ]
    }
   ],
   "source": [
    "male_avg_sexism = df[df['What is your gender?'] == 'Male']['On a scale of 1 to 5 - to your knowledge, how prevalent is sexism which is biased against women in computer engineering?'].mean()\n",
    "female_avg_sexism = df[df['What is your gender?'] == 'Female']['On a scale of 1 to 5 - to your knowledge, how prevalent is sexism which is biased against women in computer engineering?'].mean()\n",
    "\n",
    "male_std_sexism = df[df['What is your gender?'] == 'Male']['On a scale of 1 to 5 - to your knowledge, how prevalent is sexism which is biased against women in computer engineering?'].std()\n",
    "female_std_sexism = df[df['What is your gender?'] == 'Female']['On a scale of 1 to 5 - to your knowledge, how prevalent is sexism which is biased against women in computer engineering?'].std()\n",
    "\n",
    "male_sem_sexism = df[df['What is your gender?'] == 'Male']['On a scale of 1 to 5 - to your knowledge, how prevalent is sexism which is biased against women in computer engineering?'].sem()\n",
    "female_sem_sexism = df[df['What is your gender?'] == 'Female']['On a scale of 1 to 5 - to your knowledge, how prevalent is sexism which is biased against women in computer engineering?'].sem()\n",
    "\n",
    "\n",
    "print(f'Male mean sexism: {male_avg_sexism:.2f}\\nFemale mean sexism: {female_avg_sexism:.2f}')\n",
    "print(f'Male std sexism: {male_std_sexism:.2f}\\nFemale std sexism: {female_std_sexism:.2f}')\n",
    "print(f'Male sem sexism: {male_sem_sexism:.2f}\\nFemale sem sexism: {female_sem_sexism:.2f}')"
   ]
  },
  {
   "cell_type": "code",
   "execution_count": 36,
   "metadata": {},
   "outputs": [
    {
     "data": {
      "text/plain": [
       "LeveneResult(statistic=1.4798578891047998, pvalue=0.2269426338278926)"
      ]
     },
     "execution_count": 36,
     "metadata": {},
     "output_type": "execute_result"
    }
   ],
   "source": [
    "from scipy.stats import levene\n",
    "\n",
    "levene(\n",
    "    df[df['What is your gender?'] == 'Male']['On a scale of 1 to 5 - to your knowledge, how prevalent is sexism which is biased against women in computer engineering?'],\n",
    "    df[df['What is your gender?'] == 'Female']['On a scale of 1 to 5 - to your knowledge, how prevalent is sexism which is biased against women in computer engineering?']\n",
    ")"
   ]
  },
  {
   "cell_type": "markdown",
   "metadata": {},
   "source": [
    "# On a scale of 1 to 5, how comfortable do you feel using a computer?"
   ]
  },
  {
   "cell_type": "code",
   "execution_count": 37,
   "metadata": {},
   "outputs": [
    {
     "data": {
      "text/plain": [
       "(43, 50)"
      ]
     },
     "execution_count": 37,
     "metadata": {},
     "output_type": "execute_result"
    }
   ],
   "source": [
    "len(df[df['What is your gender?'] == 'Male']['On a scale of 1 to 5, how comfortable do you feel using a computer?']), len(df[df['What is your gender?'] == 'Female']['On a scale of 1 to 5, how comfortable do you feel using a computer?'])"
   ]
  },
  {
   "cell_type": "code",
   "execution_count": 39,
   "metadata": {},
   "outputs": [
    {
     "name": "stdout",
     "output_type": "stream",
     "text": [
      "Male mean comfortable: 4.72\n",
      "Female mean comfortable: 4.28\n",
      "Male std comfortable: 0.50\n",
      "Female std comfortable: 0.76\n",
      "Male sem comfortable: 0.08\n",
      "Female sem comfortable: 0.11\n"
     ]
    }
   ],
   "source": [
    "male_avg_comfortable = df[df['What is your gender?'] == 'Male']['On a scale of 1 to 5, how comfortable do you feel using a computer?'].mean()\n",
    "female_avg_comfortable = df[df['What is your gender?'] == 'Female']['On a scale of 1 to 5, how comfortable do you feel using a computer?'].mean()\n",
    "\n",
    "male_std_comfortable = df[df['What is your gender?'] == 'Male']['On a scale of 1 to 5, how comfortable do you feel using a computer?'].std()\n",
    "female_std_comfortable = df[df['What is your gender?'] == 'Female']['On a scale of 1 to 5, how comfortable do you feel using a computer?'].std()\n",
    "\n",
    "male_sem_comfortable = df[df['What is your gender?'] == 'Male']['On a scale of 1 to 5, how comfortable do you feel using a computer?'].sem()\n",
    "female_sem_comfortable = df[df['What is your gender?'] == 'Female']['On a scale of 1 to 5, how comfortable do you feel using a computer?'].sem()\n",
    "\n",
    "\n",
    "print(f'Male mean comfortable: {male_avg_comfortable:.2f}\\nFemale mean comfortable: {female_avg_comfortable:.2f}')\n",
    "print(f'Male std comfortable: {male_std_comfortable:.2f}\\nFemale std comfortable: {female_std_comfortable:.2f}')\n",
    "print(f'Male sem comfortable: {male_sem_comfortable:.2f}\\nFemale sem comfortable: {female_sem_comfortable:.2f}')"
   ]
  },
  {
   "cell_type": "code",
   "execution_count": 40,
   "metadata": {},
   "outputs": [
    {
     "data": {
      "text/plain": [
       "LeveneResult(statistic=8.789835666463784, pvalue=0.003867077718285392)"
      ]
     },
     "execution_count": 40,
     "metadata": {},
     "output_type": "execute_result"
    }
   ],
   "source": [
    "from scipy.stats import levene\n",
    "\n",
    "levene(\n",
    "    df[df['What is your gender?'] == 'Male']['On a scale of 1 to 5, how comfortable do you feel using a computer?'],\n",
    "    df[df['What is your gender?'] == 'Female']['On a scale of 1 to 5, how comfortable do you feel using a computer?']\n",
    ")"
   ]
  },
  {
   "cell_type": "markdown",
   "metadata": {},
   "source": [
    "# On a scale of 1 to 5, what is the gender stereotype in your culture when it comes to computer engineering?"
   ]
  },
  {
   "cell_type": "code",
   "execution_count": 41,
   "metadata": {},
   "outputs": [
    {
     "data": {
      "text/plain": [
       "(43, 50)"
      ]
     },
     "execution_count": 41,
     "metadata": {},
     "output_type": "execute_result"
    }
   ],
   "source": [
    "len(df[df['What is your gender?'] == 'Male']['On a scale of 1 to 5, what is the gender stereotype in your culture when it comes to computer engineering?']), len(df[df['What is your gender?'] == 'Female']['On a scale of 1 to 5, what is the gender stereotype in your culture when it comes to computer engineering?'])"
   ]
  },
  {
   "cell_type": "code",
   "execution_count": 43,
   "metadata": {},
   "outputs": [
    {
     "name": "stdout",
     "output_type": "stream",
     "text": [
      "Male mean stereotype: 4.56\n",
      "Female mean stereotype: 3.92\n",
      "Male std stereotype: 0.67\n",
      "Female std stereotype: 0.88\n",
      "Male sem stereotype: 0.10\n",
      "Female sem stereotype: 0.12\n"
     ]
    }
   ],
   "source": [
    "male_avg_st = df[df['What is your gender?'] == 'Male']['On a scale of 1 to 5, what is the gender stereotype in your culture when it comes to computer engineering?'].mean()\n",
    "female_avg_st = df[df['What is your gender?'] == 'Female']['On a scale of 1 to 5, what is the gender stereotype in your culture when it comes to computer engineering?'].mean()\n",
    "\n",
    "male_std_st = df[df['What is your gender?'] == 'Male']['On a scale of 1 to 5, what is the gender stereotype in your culture when it comes to computer engineering?'].std()\n",
    "female_std_st = df[df['What is your gender?'] == 'Female']['On a scale of 1 to 5, what is the gender stereotype in your culture when it comes to computer engineering?'].std()\n",
    "\n",
    "male_sem_st = df[df['What is your gender?'] == 'Male']['On a scale of 1 to 5, what is the gender stereotype in your culture when it comes to computer engineering?'].sem()\n",
    "female_sem_st = df[df['What is your gender?'] == 'Female']['On a scale of 1 to 5, what is the gender stereotype in your culture when it comes to computer engineering?'].sem()\n",
    "\n",
    "\n",
    "print(f'Male mean stereotype: {male_avg_st:.2f}\\nFemale mean stereotype: {female_avg_st:.2f}')\n",
    "print(f'Male std stereotype: {male_std_st:.2f}\\nFemale std stereotype: {female_std_st:.2f}')\n",
    "print(f'Male sem stereotype: {male_sem_st:.2f}\\nFemale sem stereotype: {female_sem_st:.2f}')"
   ]
  },
  {
   "cell_type": "code",
   "execution_count": 44,
   "metadata": {},
   "outputs": [
    {
     "data": {
      "text/plain": [
       "LeveneResult(statistic=0.7174678267466583, pvalue=0.39919792825500766)"
      ]
     },
     "execution_count": 44,
     "metadata": {},
     "output_type": "execute_result"
    }
   ],
   "source": [
    "from scipy.stats import levene\n",
    "\n",
    "levene(\n",
    "    df[df['What is your gender?'] == 'Male']['On a scale of 1 to 5, what is the gender stereotype in your culture when it comes to computer engineering?'],\n",
    "    df[df['What is your gender?'] == 'Female']['On a scale of 1 to 5, what is the gender stereotype in your culture when it comes to computer engineering?']\n",
    ")"
   ]
  },
  {
   "cell_type": "code",
   "execution_count": 62,
   "metadata": {},
   "outputs": [
    {
     "data": {
      "text/plain": [
       "(1.0, 0.0)"
      ]
     },
     "execution_count": 62,
     "metadata": {},
     "output_type": "execute_result"
    }
   ],
   "source": [
    "from scipy.stats import pearsonr\n",
    "\n",
    "pearsonr(\n",
    "    df['What is your age?'],\n",
    "    df['On a scale of 1 to 5 - to your knowledge, how prevalent is sexism which is biased against women in computer engineering?']\n",
    ")"
   ]
  },
  {
   "cell_type": "code",
   "execution_count": 63,
   "metadata": {},
   "outputs": [
    {
     "data": {
      "text/plain": [
       "(1.0, 0.0)"
      ]
     },
     "execution_count": 63,
     "metadata": {},
     "output_type": "execute_result"
    }
   ],
   "source": [
    "clean_df = df.dropna(subset=['On a scale of 1 to 5, how satisfied are you with your current job?'], how='all')\n",
    "\n",
    "pearsonr(\n",
    "    clean_df['What is your age?'],\n",
    "    clean_df['On a scale of 1 to 5, how satisfied are you with your current job?']\n",
    ")"
   ]
  },
  {
   "cell_type": "code",
   "execution_count": 110,
   "metadata": {},
   "outputs": [
    {
     "data": {
      "text/plain": [
       "(0.07515716995077737, 0.5927446426014763)"
      ]
     },
     "execution_count": 110,
     "metadata": {},
     "output_type": "execute_result"
    }
   ],
   "source": [
    "clean_df = df.dropna(subset=['On a scale of 1 to 5, how intimidating do/did you find your programming-related course?'], how='all')\n",
    "\n",
    "pearsonr(\n",
    "    clean_df['What is your age?'],\n",
    "    clean_df['On a scale of 1 to 5, how intimidating do/did you find your programming-related course?']\n",
    ")"
   ]
  },
  {
   "cell_type": "code",
   "execution_count": 111,
   "metadata": {},
   "outputs": [
    {
     "data": {
      "text/plain": [
       "(0.5325770069698071, 0.06096109904946606)"
      ]
     },
     "execution_count": 111,
     "metadata": {},
     "output_type": "execute_result"
    }
   ],
   "source": [
    "clean_df = df.dropna(subset=['On a scale of 1 to 5, how hard was it for you to land your current job?'], how='all')\n",
    "\n",
    "pearsonr(\n",
    "    clean_df['What is your age?'],\n",
    "    clean_df['On a scale of 1 to 5, how hard was it for you to land your current job?']\n",
    ")"
   ]
  },
  {
   "cell_type": "code",
   "execution_count": 112,
   "metadata": {},
   "outputs": [
    {
     "data": {
      "text/plain": [
       "(-0.23571545160112245, 0.08929096451116891)"
      ]
     },
     "execution_count": 112,
     "metadata": {},
     "output_type": "execute_result"
    }
   ],
   "source": [
    "clean_df = df.dropna(subset=['On a scale of 1 to 5, how intimidating do/did you find your programming-related course?'], how='all')\n",
    "\n",
    "pearsonr(\n",
    "    clean_df['On a scale of 1 to 5, what is your opinion of the contents of the course you are following/have followed?'],\n",
    "    clean_df['On a scale of 1 to 5, how intimidating do/did you find your programming-related course?']\n",
    ")"
   ]
  },
  {
   "cell_type": "code",
   "execution_count": null,
   "metadata": {},
   "outputs": [],
   "source": [
    "clean_df = df.dropna(subset=['On a scale of 1 to 5, how intimidating do/did you find your programming-related course?'], how='all')\n",
    "\n",
    "pearsonr(\n",
    "    clean_df['On a scale of 1 to 5, what is your opinion of the contents of the course you are following/have followed?'],\n",
    "    clean_df['On a scale of 1 to 5, how intimidating do/did you find your programming-related course?']\n",
    ")"
   ]
  },
  {
   "cell_type": "code",
   "execution_count": 96,
   "metadata": {},
   "outputs": [
    {
     "data": {
      "text/plain": [
       "(-0.24521353851735703, 0.015484344409497764)"
      ]
     },
     "execution_count": 96,
     "metadata": {},
     "output_type": "execute_result"
    }
   ],
   "source": [
    "clean_df = df.dropna(subset=['On a scale of 1 to 5, how comfortable do you feel using a computer?'], how='all')\n",
    "\n",
    "pearsonr(\n",
    "    clean_df['age_first'],\n",
    "    clean_df['On a scale of 1 to 5, how comfortable do you feel using a computer?']\n",
    ")"
   ]
  },
  {
   "cell_type": "markdown",
   "metadata": {},
   "source": [
    "# Age"
   ]
  },
  {
   "cell_type": "code",
   "execution_count": 90,
   "metadata": {},
   "outputs": [
    {
     "name": "stdout",
     "output_type": "stream",
     "text": [
      "Male mean age: 9.13\n",
      "Female mean age: 12.61\n",
      "Male std age: 4.98\n",
      "Female std age: 5.14\n",
      "Male sem age: 0.76\n",
      "Female sem age: 0.73\n"
     ]
    }
   ],
   "source": [
    "male_avg_age = df[df['What is your gender?'] == 'Male']['age_first'].mean()\n",
    "female_avg_age = df[df['What is your gender?'] == 'Female']['age_first'].mean()\n",
    "\n",
    "male_std_age = df[df['What is your gender?'] == 'Male']['age_first'].std()\n",
    "female_std_age = df[df['What is your gender?'] == 'Female']['age_first'].std()\n",
    "\n",
    "male_sem_age = df[df['What is your gender?'] == 'Male']['age_first'].sem()\n",
    "female_sem_age = df[df['What is your gender?'] == 'Female']['age_first'].sem()\n",
    "\n",
    "print(f'Male mean age: {male_avg_age:.2f}\\nFemale mean age: {female_avg_age:.2f}')\n",
    "print(f'Male std age: {male_std_age:.2f}\\nFemale std age: {female_std_age:.2f}')\n",
    "print(f'Male sem age: {male_sem_age:.2f}\\nFemale sem age: {female_sem_age:.2f}')"
   ]
  },
  {
   "cell_type": "code",
   "execution_count": 91,
   "metadata": {},
   "outputs": [
    {
     "data": {
      "text/plain": [
       "LeveneResult(statistic=3.555803055314394, pvalue=0.0625276238860638)"
      ]
     },
     "execution_count": 91,
     "metadata": {},
     "output_type": "execute_result"
    }
   ],
   "source": [
    "from scipy.stats import levene\n",
    "\n",
    "levene(\n",
    "    df[df['What is your gender?'] == 'Male']['age_first'],\n",
    "    df[df['What is your gender?'] == 'Female']['age_first']\n",
    ")"
   ]
  }
 ],
 "metadata": {
  "kernelspec": {
   "display_name": "Python 3",
   "language": "python",
   "name": "python3"
  },
  "language_info": {
   "codemirror_mode": {
    "name": "ipython",
    "version": 3
   },
   "file_extension": ".py",
   "mimetype": "text/x-python",
   "name": "python",
   "nbconvert_exporter": "python",
   "pygments_lexer": "ipython3",
   "version": "3.7.1"
  }
 },
 "nbformat": 4,
 "nbformat_minor": 2
}
